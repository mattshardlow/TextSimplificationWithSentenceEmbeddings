{
  "nbformat": 4,
  "nbformat_minor": 0,
  "metadata": {
    "colab": {
      "provenance": [],
      "gpuType": "L4"
    },
    "kernelspec": {
      "name": "python3",
      "display_name": "Python 3"
    },
    "language_info": {
      "name": "python"
    },
    "accelerator": "GPU"
  },
  "cells": [
    {
      "cell_type": "code",
      "execution_count": null,
      "metadata": {
        "id": "icBR6wlK1gwn"
      },
      "outputs": [],
      "source": [
        "! pip install numpy==1.26.4\n",
        "! pip install lens-metric"
      ]
    },
    {
      "cell_type": "code",
      "source": [
        "from lens import download_model, LENS\n",
        "lens_path = download_model(\"davidheineman/lens\")\n",
        "lens = LENS(lens_path, rescale=True)"
      ],
      "metadata": {
        "id": "dXpBL1Fb1owy"
      },
      "execution_count": null,
      "outputs": []
    },
    {
      "cell_type": "code",
      "source": [
        "! git clone https://github.com/feralvam/easse.git"
      ],
      "metadata": {
        "id": "JXhSEwQA1sjb"
      },
      "execution_count": null,
      "outputs": []
    },
    {
      "cell_type": "code",
      "source": [
        "! git clone https://github.com/ZurichNLP/BLESS.git"
      ],
      "metadata": {
        "id": "QOmi-Q7B7KVF"
      },
      "execution_count": null,
      "outputs": []
    },
    {
      "cell_type": "code",
      "source": [
        "# run get dataset stats with data from experiments using easse-sari data as src and references...\n",
        "import pickle\n",
        "asset_sys_tsse = pickle.load(open('/content/asset_tgt.pkl','rb'))"
      ],
      "metadata": {
        "id": "gAq7Y7S41u9s"
      },
      "execution_count": null,
      "outputs": []
    },
    {
      "cell_type": "code",
      "source": [
        "asset_src = open('/content/easse/easse/resources/data/test_sets/asset/asset.test.orig','r').readlines()\n",
        "asset_ref = [open('/content/easse/easse/resources/data/test_sets/asset/asset.test.simp.%d' % i,'r').readlines() for i in range(10)]\n",
        "asset_ref = list(map(list, zip(*asset_ref)))"
      ],
      "metadata": {
        "id": "6zw_cZSVS7ud"
      },
      "execution_count": null,
      "outputs": []
    },
    {
      "cell_type": "code",
      "source": [
        "import json\n",
        "medEASi = open('/content/BLESS/model_outputs_and_evals/ground_truth/med-easi-test.jsonl','r').readlines()\n",
        "medEASi_src = [json.loads(line)['source'] for line in medEASi]\n",
        "medEASi_ref = [json.loads(line)['references'][0] for line in medEASi]\n",
        "medEASi_sys_tsse = pickle.load(open('MedEASi_tgt.pkl', 'rb'))\n"
      ],
      "metadata": {
        "id": "XNTY4c_N7QiL"
      },
      "execution_count": null,
      "outputs": []
    },
    {
      "cell_type": "code",
      "source": [
        "import torch\n",
        "DEVICES = [0] if torch.cuda.is_available() else None"
      ],
      "metadata": {
        "id": "hxxYADqmTW_0"
      },
      "execution_count": null,
      "outputs": []
    },
    {
      "cell_type": "code",
      "source": [
        "def get_lens_score(src, ref, sys):\n",
        "  scores = lens.score(src, sys, ref, batch_size=16, devices=DEVICES)\n",
        "  print(sum(scores)/len(scores))"
      ],
      "metadata": {
        "id": "5HrB4aN0S9K8"
      },
      "execution_count": null,
      "outputs": []
    },
    {
      "cell_type": "code",
      "source": [
        "# TSSE - ASSET\n",
        "get_lens_score(asset_src, asset_ref, asset_sys_tsse)"
      ],
      "metadata": {
        "id": "w-jmTJK6TKzl"
      },
      "execution_count": null,
      "outputs": []
    },
    {
      "cell_type": "code",
      "source": [
        "# TSSE - MEDEASI\n",
        "get_lens_score(medEASi_src, medEASi_ref, medEASi_sys_tsse)"
      ],
      "metadata": {
        "id": "BI3caDCXbYgi"
      },
      "execution_count": null,
      "outputs": []
    },
    {
      "cell_type": "code",
      "source": [
        "# SEQ2SEQ - ASSET\n",
        "asset_s2s = open('/content/BLESS/model_outputs_and_evals/muss/asset-test_default_muss_en_mined.jsonl','r')\n",
        "asset_sys_s2s = [json.loads(line)['model_output'] for line in asset_s2s]\n",
        "get_lens_score(asset_src, asset_ref, asset_sys_s2s)"
      ],
      "metadata": {
        "id": "8F-MkEKd7-Q2"
      },
      "execution_count": null,
      "outputs": []
    },
    {
      "cell_type": "code",
      "source": [
        "# SEQ2SEQ - MedEASi\n",
        "medEASi_s2s = open('/content/BLESS/model_outputs_and_evals/muss/med-easi-test_default_muss_en_mined.jsonl','r')\n",
        "medEASi_sys_s2s = [json.loads(line)['model_output'] for line in medEASi_s2s]\n",
        "get_lens_score(medEASi_src, medEASi_ref, medEASi_sys_s2s)"
      ],
      "metadata": {
        "id": "4ktYbVpG8B8H"
      },
      "execution_count": null,
      "outputs": []
    },
    {
      "cell_type": "code",
      "source": [
        "# LLM - ASSET\n",
        "asset_s2s = open('/content/BLESS/model_outputs_and_evals/openai-gpt-3.5-turbo/asset-test_asset-valid_p2_random_fs3_nr1_s723.jsonl','r')\n",
        "asset_sys_s2s = [json.loads(line)['model_output'] for line in asset_s2s]\n",
        "get_lens_score(asset_src, asset_ref, asset_sys_s2s)"
      ],
      "metadata": {
        "id": "gvDzyJVX8B2b"
      },
      "execution_count": null,
      "outputs": []
    },
    {
      "cell_type": "code",
      "source": [
        "# LLM - MedEASi\n",
        "medEASi_s2s = open('/content/BLESS/model_outputs_and_evals/openai-gpt-3.5-turbo/med-easi-test_med-easi-validation_p2_random_fs3_nr1_s723.jsonl','r')\n",
        "medEASi_sys_s2s = [json.loads(line)['model_output'] for line in medEASi_s2s]\n",
        "get_lens_score(medEASi_src, medEASi_ref, medEASi_sys_s2s)"
      ],
      "metadata": {
        "id": "n65A75yU8Bq9"
      },
      "execution_count": null,
      "outputs": []
    },
    {
      "cell_type": "code",
      "source": [],
      "metadata": {
        "id": "uaDdFkdF8Uh_"
      },
      "execution_count": null,
      "outputs": []
    }
  ]
}