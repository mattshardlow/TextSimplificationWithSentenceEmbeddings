{
  "nbformat": 4,
  "nbformat_minor": 0,
  "metadata": {
    "colab": {
      "provenance": [],
      "gpuType": "L4"
    },
    "kernelspec": {
      "name": "python3",
      "display_name": "Python 3"
    },
    "language_info": {
      "name": "python"
    },
    "accelerator": "GPU"
  },
  "cells": [
    {
      "cell_type": "code",
      "execution_count": null,
      "metadata": {
        "id": "ZKhlEDAJHpg2"
      },
      "outputs": [],
      "source": [
        "! pip install py-readability-metrics\n",
        "\n",
        "import nltk\n",
        "from readability import Readability\n",
        "\n",
        "nltk.download('punkt_tab')"
      ]
    },
    {
      "cell_type": "code",
      "source": [
        "! pip install transformers"
      ],
      "metadata": {
        "id": "L5AMCSqQJou2"
      },
      "execution_count": null,
      "outputs": []
    },
    {
      "cell_type": "code",
      "source": [
        "%%bash\n",
        "git clone https://github.com/google-research/bleurt.git\n",
        "cd bleurt\n",
        "pip install ."
      ],
      "metadata": {
        "id": "bMaQyvoK8hqQ"
      },
      "execution_count": null,
      "outputs": []
    },
    {
      "cell_type": "code",
      "source": [
        "!wget https://storage.googleapis.com/bleurt-oss-21/BLEURT-20.zip .\n",
        "!unzip BLEURT-20.zip"
      ],
      "metadata": {
        "id": "nvBb585Y-qEv"
      },
      "execution_count": null,
      "outputs": []
    },
    {
      "cell_type": "code",
      "source": [
        "from transformers import AutoTokenizer, pipeline"
      ],
      "metadata": {
        "id": "e_zOqL_HJqdf"
      },
      "execution_count": null,
      "outputs": []
    },
    {
      "cell_type": "code",
      "source": [
        "cefr_map = {'A1':0,'A2':1,'B1':2,'B2':3,'C1':4,'C2':5}\n",
        "cefr_labeler = pipeline(task=\"text-classification\",model=\"AbdullahBarayan/ModernBERT-base-doc_sent_en-Cefr\",batch_size=16)"
      ],
      "metadata": {
        "id": "4csuahBUJsB6"
      },
      "execution_count": null,
      "outputs": []
    },
    {
      "cell_type": "code",
      "source": [
        "! git clone https://github.com/feralvam/easse.git"
      ],
      "metadata": {
        "id": "LGJrfE4FKc_W"
      },
      "execution_count": null,
      "outputs": []
    },
    {
      "cell_type": "code",
      "source": [
        "! mv easse/* .\n",
        "! pip install -e ."
      ],
      "metadata": {
        "id": "N-z2KZESKesX"
      },
      "execution_count": null,
      "outputs": []
    },
    {
      "cell_type": "code",
      "source": [
        "!mv easse eaase2/"
      ],
      "metadata": {
        "id": "6nxwFLP7K9i9"
      },
      "execution_count": null,
      "outputs": []
    },
    {
      "cell_type": "code",
      "source": [
        "!mv eaase2/easse ."
      ],
      "metadata": {
        "id": "YReAQXrYcMUv"
      },
      "execution_count": null,
      "outputs": []
    },
    {
      "cell_type": "code",
      "source": [
        "from easse import sari"
      ],
      "metadata": {
        "id": "1Y7tvXrZOhaa"
      },
      "execution_count": null,
      "outputs": []
    },
    {
      "cell_type": "code",
      "source": [
        "! git clone https://github.com/ZurichNLP/BLESS.git"
      ],
      "metadata": {
        "id": "vTBPSSYkYlRs"
      },
      "execution_count": null,
      "outputs": []
    },
    {
      "cell_type": "code",
      "source": [
        "import pickle"
      ],
      "metadata": {
        "id": "SlDTNyK7ohYQ"
      },
      "execution_count": null,
      "outputs": []
    },
    {
      "cell_type": "code",
      "source": [
        "! git clone https://github.com/rstodden/DEPlain.git"
      ],
      "metadata": {
        "id": "cKh4iONcoNCj"
      },
      "execution_count": null,
      "outputs": []
    },
    {
      "cell_type": "code",
      "source": [
        "import csv\n",
        "with open('/content/DEPlain/E__Sentence-level_Corpus/DEplain-web-sent/manual/open/test.csv') as csvfile:\n",
        "    reader = csv.reader(csvfile)\n",
        "    next(reader)\n",
        "    deplain_src = [row[0] for row in reader]\n",
        "\n",
        "with open('/content/DEPlain/E__Sentence-level_Corpus/DEplain-web-sent/manual/open/test.csv') as csvfile:\n",
        "    reader = csv.reader(csvfile)\n",
        "    next(reader)\n",
        "    deplain_ref = [row[1] for row in reader]\n",
        "\n",
        "deplain_sys = pickle.load(open('/content/DEPlain_tgt.pkl','rb'))\n"
      ],
      "metadata": {
        "id": "gFEPFk9koQV3"
      },
      "execution_count": null,
      "outputs": []
    },
    {
      "cell_type": "code",
      "source": [
        "with open('/content/claramed_synt_simp_aligned.tsv') as csvfile:\n",
        "    reader = csv.reader(csvfile,delimiter=\"\\t\")\n",
        "    next(reader)\n",
        "    claramed_src = [row[1] for row in reader]\n",
        "\n",
        "with open('/content/claramed_synt_simp_aligned.tsv') as csvfile:\n",
        "    reader = csv.reader(csvfile,delimiter=\"\\t\")\n",
        "    next(reader)\n",
        "    claramed_ref = [row[3] for row in reader]\n",
        "\n",
        "claramed_sys = pickle.load(open('/content/CLARAMeD_tgt.pkl','rb'))"
      ],
      "metadata": {
        "id": "esHJGr5doqYc"
      },
      "execution_count": null,
      "outputs": []
    },
    {
      "cell_type": "code",
      "source": [
        "from bleurt import score\n",
        "\n",
        "checkpoint = \"BLEURT-20\"\n",
        "bleurt_scorer = score.BleurtScorer(checkpoint)"
      ],
      "metadata": {
        "id": "t0DbEr9Z8tj1"
      },
      "execution_count": null,
      "outputs": []
    },
    {
      "cell_type": "code",
      "source": [
        "from tqdm.notebook import tqdm\n",
        "\n",
        "def get_bleurt_score(refs,sys):\n",
        "  scores = [bleurt_scorer.score(references=ref, candidates=sys, batch_size=32) for ref in tqdm(refs)]\n",
        "  scores = [sum(s)/len(s) for s in scores]\n",
        "  scores = sum(scores)/len(scores)\n",
        "  return scores\n",
        "\n",
        "def get_stats(text):\n",
        "  r = Readability(\"\\n\".join(text))\n",
        "  fkgl = r.flesch_kincaid()\n",
        "  ari = r.ari()\n",
        "  cefr_labels = cefr_labeler(text)\n",
        "  cefr_labels = [cefr_map[cefr_label['label']] for cefr_label in cefr_labels]\n",
        "  cefr = sum(cefr_labels)/len(cefr_labels)\n",
        "  return (fkgl.score, cefr, ari.score)\n",
        "\n",
        "def get_dataset_stats(src, refs, output):\n",
        "  src_stats = get_stats(src)\n",
        "  refs_stats = [get_stats(ref) for ref in refs]\n",
        "  refs_stats = (sum([ref[0] for ref in refs_stats])/len(refs_stats), sum([ref[1] for ref in refs_stats])/len(refs_stats), sum([ref[2] for ref in refs_stats])/len(refs_stats))\n",
        "  tgt_stats = get_stats(output)\n",
        "  bleurt = get_bleurt_score(refs,output)\n",
        "  sari_scores = sari.get_corpus_sari_operation_scores(src,output,refs)\n",
        "  sari_agg = sari.corpus_sari(orig_sents=src,sys_sents=output,refs_sents=refs)\n",
        "\n",
        "  print(src_stats[0], tgt_stats[0], refs_stats[0])\n",
        "  print(src_stats[1], tgt_stats[1], refs_stats[1])\n",
        "  print(src_stats[2], tgt_stats[2], refs_stats[2])\n",
        "  print(sari_scores)\n",
        "  print(sari_agg)\n",
        "  print(bleurt)\n"
      ],
      "metadata": {
        "id": "Lq6qIDssJ2R4"
      },
      "execution_count": null,
      "outputs": []
    },
    {
      "cell_type": "code",
      "source": [
        "# run get dataset stats with data from experiments using easse-sari data as src and references...\n",
        "import pickle\n",
        "asset_sys_tsse = pickle.load(open('/content/asset_tgt.pkl','rb'))"
      ],
      "metadata": {
        "id": "UVGw42c9KECY"
      },
      "execution_count": null,
      "outputs": []
    },
    {
      "cell_type": "code",
      "source": [
        "asset_src = open('/content/easse/resources/data/test_sets/asset/asset.test.orig','r').readlines()\n",
        "asset_ref = [open('/content/easse/resources/data/test_sets/asset/asset.test.simp.%d' % i,'r').readlines() for i in range(10)]"
      ],
      "metadata": {
        "id": "bDp8IegwQBmu"
      },
      "execution_count": null,
      "outputs": []
    },
    {
      "cell_type": "code",
      "source": [
        "import json\n",
        "medEASi = open('/content/BLESS/model_outputs_and_evals/ground_truth/med-easi-test.jsonl','r').readlines()\n",
        "medEASi_src = [json.loads(line)['source'] for line in medEASi]\n",
        "medEASi_ref = [json.loads(line)['references'][0] for line in medEASi]\n",
        "medEASi_sys_tsse = pickle.load(open('MedEASi_tgt.pkl', 'rb'))\n",
        "\n"
      ],
      "metadata": {
        "id": "-kn76k-nYpVO"
      },
      "execution_count": null,
      "outputs": []
    },
    {
      "cell_type": "code",
      "source": [
        "#TSSE - ASSET\n",
        "get_dataset_stats(asset_src, asset_ref, asset_sys_tsse)"
      ],
      "metadata": {
        "id": "b4Y1YtBvM0hF"
      },
      "execution_count": null,
      "outputs": []
    },
    {
      "cell_type": "code",
      "source": [
        "#TSSE - MedEASI\n",
        "get_dataset_stats(medEASi_src, [medEASi_ref], medEASi_sys_tsse)"
      ],
      "metadata": {
        "id": "v36w3alyNhPy"
      },
      "execution_count": null,
      "outputs": []
    },
    {
      "cell_type": "code",
      "source": [
        "# SEQ2SEQ - ASSET\n",
        "asset_s2s = open('/content/BLESS/model_outputs_and_evals/muss/asset-test_default_muss_en_mined.jsonl','r')\n",
        "asset_sys_s2s = [json.loads(line)['model_output'] for line in asset_s2s]\n",
        "get_dataset_stats(asset_src, asset_ref, asset_sys_s2s)"
      ],
      "metadata": {
        "id": "2GFceB3QNmNz"
      },
      "execution_count": null,
      "outputs": []
    },
    {
      "cell_type": "code",
      "source": [
        "# SEQ2SEQ - MedEASi\n",
        "medEASi_s2s = open('/content/BLESS/model_outputs_and_evals/muss/med-easi-test_default_muss_en_mined.jsonl','r')\n",
        "medEASi_sys_s2s = [json.loads(line)['model_output'] for line in medEASi_s2s]\n",
        "get_dataset_stats(medEASi_src, [medEASi_ref], medEASi_sys_s2s)"
      ],
      "metadata": {
        "id": "fDuHiWdlZz_2"
      },
      "execution_count": null,
      "outputs": []
    },
    {
      "cell_type": "code",
      "source": [
        "# LLM - ASSET\n",
        "asset_s2s = open('/content/BLESS/model_outputs_and_evals/openai-gpt-3.5-turbo/asset-test_asset-valid_p2_random_fs3_nr1_s723.jsonl','r')\n",
        "asset_sys_s2s = [json.loads(line)['model_output'] for line in asset_s2s]\n",
        "get_dataset_stats(asset_src, asset_ref, asset_sys_s2s)"
      ],
      "metadata": {
        "id": "3ENwpB5uZz4L"
      },
      "execution_count": null,
      "outputs": []
    },
    {
      "cell_type": "code",
      "source": [
        "# LLM - MedEASi\n",
        "medEASi_s2s = open('/content/BLESS/model_outputs_and_evals/openai-gpt-3.5-turbo/med-easi-test_med-easi-validation_p2_random_fs3_nr1_s723.jsonl','r')\n",
        "medEASi_sys_s2s = [json.loads(line)['model_output'] for line in medEASi_s2s]\n",
        "get_dataset_stats(medEASi_src, [medEASi_ref], medEASi_sys_s2s)"
      ],
      "metadata": {
        "id": "NqxwLdEiZzhz"
      },
      "execution_count": null,
      "outputs": []
    },
    {
      "cell_type": "code",
      "source": [
        "# TSSE - DEPLAIN\n",
        "get_dataset_stats(deplain_src, [deplain_ref], deplain_sys)"
      ],
      "metadata": {
        "id": "WMPB78EjAVi9"
      },
      "execution_count": null,
      "outputs": []
    },
    {
      "cell_type": "code",
      "source": [
        "# TSSE - CLARAMED\n",
        "get_dataset_stats(claramed_src, [claramed_ref], claramed_sys)"
      ],
      "metadata": {
        "id": "j6GibCqkpJbc"
      },
      "execution_count": null,
      "outputs": []
    },
    {
      "cell_type": "code",
      "source": [],
      "metadata": {
        "id": "U7kTw9TVpf-A"
      },
      "execution_count": null,
      "outputs": []
    }
  ]
}