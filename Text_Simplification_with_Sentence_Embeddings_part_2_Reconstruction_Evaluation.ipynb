{
  "nbformat": 4,
  "nbformat_minor": 0,
  "metadata": {
    "colab": {
      "provenance": [],
      "gpuType": "A100"
    },
    "kernelspec": {
      "name": "python3",
      "display_name": "Python 3"
    },
    "language_info": {
      "name": "python"
    },
    "accelerator": "GPU"
  },
  "cells": [
    {
      "cell_type": "code",
      "execution_count": null,
      "metadata": {
        "id": "SexLrE8vH7M5"
      },
      "outputs": [],
      "source": [
        "! pip install py-readability-metrics\n",
        "\n",
        "import nltk\n",
        "from readability import Readability\n",
        "\n",
        "nltk.download('punkt_tab')"
      ]
    },
    {
      "cell_type": "code",
      "source": [
        "! pip install transformers"
      ],
      "metadata": {
        "id": "l_2arMiyI1GC"
      },
      "execution_count": null,
      "outputs": []
    },
    {
      "cell_type": "code",
      "source": [
        "from transformers import AutoTokenizer, pipeline"
      ],
      "metadata": {
        "id": "jM1J4wS4I22K"
      },
      "execution_count": null,
      "outputs": []
    },
    {
      "cell_type": "code",
      "source": [
        "cefr_map = {'A1':0,'A2':1,'B1':2,'B2':3,'C1':4,'C2':5}\n",
        "cefr_labeler = pipeline(task=\"text-classification\",model=\"AbdullahBarayan/ModernBERT-base-doc_sent_en-Cefr\",batch_size=16)"
      ],
      "metadata": {
        "id": "zoUlBbN1JWP8"
      },
      "execution_count": null,
      "outputs": []
    },
    {
      "cell_type": "code",
      "source": [
        "%%bash\n",
        "git clone https://github.com/google-research/bleurt.git\n",
        "cd bleurt\n",
        "pip install ."
      ],
      "metadata": {
        "id": "RAFXqnbNT6X6"
      },
      "execution_count": null,
      "outputs": []
    },
    {
      "cell_type": "code",
      "source": [
        "!wget https://storage.googleapis.com/bleurt-oss-21/BLEURT-20.zip .\n",
        "!unzip BLEURT-20.zip"
      ],
      "metadata": {
        "id": "NNCeDDQJT7n6"
      },
      "execution_count": null,
      "outputs": []
    },
    {
      "cell_type": "code",
      "source": [
        "from bleurt import score\n",
        "checkpoint = \"BLEURT-20\"\n",
        "bleurt_scorer = score.BleurtScorer(checkpoint)"
      ],
      "metadata": {
        "id": "EwMg4bLoUDv7"
      },
      "execution_count": null,
      "outputs": []
    },
    {
      "cell_type": "code",
      "source": [
        "import pickle"
      ],
      "metadata": {
        "id": "0Z5V_k3TKkRL"
      },
      "execution_count": null,
      "outputs": []
    },
    {
      "cell_type": "code",
      "source": [
        "# run part 1 first to generate these\n",
        "reconstruction = pickle.load(open('reconstruction.pkl','rb'))\n",
        "embeddings = pickle.load(open('embeddings.pkl','rb'))\n",
        "all_sentences = pickle.load(open('all_sentences.pkl','rb'))"
      ],
      "metadata": {
        "id": "DVtJMHK6KliX"
      },
      "execution_count": null,
      "outputs": []
    },
    {
      "cell_type": "code",
      "source": [
        "def get_bleurt_score(refs,sys):\n",
        "  scores = bleurt_scorer.score(references=refs, candidates=sys, batch_size=32)\n",
        "  scores = sum(scores)/len(scores)\n",
        "  return scores\n",
        "\n",
        "def get_stats(text):\n",
        "  r = Readability(\"\\n\".join(text))\n",
        "  fkgl = r.flesch_kincaid()\n",
        "  ari = r.ari()\n",
        "  cefr_labels = cefr_labeler(text)\n",
        "  cefr_labels = [cefr_map[cefr_label['label']] for cefr_label in cefr_labels]\n",
        "  cefr = sum(cefr_labels)/len(cefr_labels)\n",
        "  return (fkgl.score, cefr, ari.score)\n",
        "\n",
        "\n",
        "def get_dataset_stats(src, tgt):\n",
        "  src_stats = get_stats(src)\n",
        "  tgt_stats = get_stats(tgt)\n",
        "  bleurt = get_bleurt_score(src,tgt)\n",
        "  print(src_stats[0], tgt_stats[0], src_stats[0]-tgt_stats[0])\n",
        "  print(src_stats[1], tgt_stats[1], src_stats[1]-tgt_stats[1])\n",
        "  print(src_stats[2], tgt_stats[2], src_stats[2]-tgt_stats[2])\n",
        "  print(bleurt)\n"
      ],
      "metadata": {
        "id": "v8avk64SI4mI"
      },
      "execution_count": null,
      "outputs": []
    },
    {
      "cell_type": "code",
      "source": [
        "get_dataset_stats(all_sentences['asset.valid.simp.0']['src'], reconstruction['asset_comp_train'])\n",
        "get_dataset_stats(all_sentences['asset.valid.simp.0']['tgt'], reconstruction['asset_simp_train'])\n",
        "get_dataset_stats(all_sentences['wiki_auto']['src'][:2000], reconstruction['wauto_comp_train'])\n",
        "get_dataset_stats(all_sentences['wiki_auto']['tgt'][:2000], reconstruction['wauto_simp_train'])"
      ],
      "metadata": {
        "id": "-p5BWLHdI7A0"
      },
      "execution_count": null,
      "outputs": []
    },
    {
      "cell_type": "code",
      "source": [],
      "metadata": {
        "id": "Z56q3a0uPftK"
      },
      "execution_count": null,
      "outputs": []
    }
  ]
}