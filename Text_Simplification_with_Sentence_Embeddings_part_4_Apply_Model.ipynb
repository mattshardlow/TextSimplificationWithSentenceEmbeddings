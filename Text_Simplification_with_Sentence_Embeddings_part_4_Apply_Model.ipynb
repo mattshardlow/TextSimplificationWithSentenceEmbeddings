{
  "nbformat": 4,
  "nbformat_minor": 0,
  "metadata": {
    "colab": {
      "provenance": [],
      "gpuType": "L4"
    },
    "kernelspec": {
      "name": "python3",
      "display_name": "Python 3"
    },
    "language_info": {
      "name": "python"
    },
    "accelerator": "GPU"
  },
  "cells": [
    {
      "cell_type": "code",
      "execution_count": null,
      "metadata": {
        "id": "z9BX2da93VXC"
      },
      "outputs": [],
      "source": [
        "#install SONAR - will be prompted to restart environment (wait until cell execution is complete)\n",
        "!pip install torch torchvision --index-url https://download.pytorch.org/whl/cu124\n",
        "!pip install fairseq2==0.3.0rc1 --extra-index-url https://fair.pkg.atmeta.com/fairseq2/whl/rc/pt2.5.1/cu124\n",
        "!pip install sonar-space==0.3.2"
      ]
    },
    {
      "cell_type": "code",
      "source": [
        "#set up SONAR models - TextToEmbeddingModelPipeline for encoding and EmbeddingToTextModelPipeline for decoding\n",
        "import torch\n",
        "from sonar.inference_pipelines.text import TextToEmbeddingModelPipeline\n",
        "from sonar.inference_pipelines.text import EmbeddingToTextModelPipeline\n",
        "\n",
        "DEVICE = \"cuda\" if torch.cuda.is_available() else \"cpu\"\n",
        "DEVICE = torch.device(DEVICE)\n",
        "torch.set_grad_enabled(False)\n",
        "print(DEVICE)\n",
        "\n",
        "# load models\n",
        "text2vec = TextToEmbeddingModelPipeline(encoder=\"text_sonar_basic_encoder\", tokenizer=\"text_sonar_basic_encoder\", device=DEVICE)\n",
        "vec2text = EmbeddingToTextModelPipeline(decoder=\"text_sonar_basic_decoder\", tokenizer=\"text_sonar_basic_encoder\", device=DEVICE)"
      ],
      "metadata": {
        "id": "VleDpqo04tVH"
      },
      "execution_count": null,
      "outputs": []
    },
    {
      "cell_type": "code",
      "source": [
        "! git clone https://github.com/feralvam/easse.git"
      ],
      "metadata": {
        "id": "tsW0D_c13dhN"
      },
      "execution_count": null,
      "outputs": []
    },
    {
      "cell_type": "code",
      "source": [
        "# ASSET\n",
        "asset_src = open('/content/easse/easse/resources/data/test_sets/asset/asset.test.orig','r').readlines()"
      ],
      "metadata": {
        "id": "cKcXCFul3fv6"
      },
      "execution_count": null,
      "outputs": []
    },
    {
      "cell_type": "code",
      "source": [
        "! git clone https://github.com/ZurichNLP/BLESS.git"
      ],
      "metadata": {
        "id": "B2h__2K2S0CB"
      },
      "execution_count": null,
      "outputs": []
    },
    {
      "cell_type": "code",
      "source": [
        "#MEDEASI\n",
        "import json"
      ],
      "metadata": {
        "id": "Dre7YMHrXgQU"
      },
      "execution_count": null,
      "outputs": []
    },
    {
      "cell_type": "code",
      "source": [
        "medEASi_src = open('/content/BLESS/model_outputs_and_evals/ground_truth/med-easi-test.jsonl','r').readlines()"
      ],
      "metadata": {
        "id": "fMh671irS9-U"
      },
      "execution_count": null,
      "outputs": []
    },
    {
      "cell_type": "code",
      "source": [
        "medEASi_src = [json.loads(line)['source'] for line in medEASi_src]"
      ],
      "metadata": {
        "id": "4NqOz8mDXFQI"
      },
      "execution_count": null,
      "outputs": []
    },
    {
      "cell_type": "code",
      "source": [
        "#DEPLAIN - DE\n",
        "! git clone https://github.com/rstodden/DEPlain.git"
      ],
      "metadata": {
        "id": "x1qVOu4Ce-6m"
      },
      "execution_count": null,
      "outputs": []
    },
    {
      "cell_type": "code",
      "source": [
        "import csv\n",
        "with open('/content/DEPlain/E__Sentence-level_Corpus/DEplain-web-sent/manual/open/test.csv') as csvfile:\n",
        "    reader = csv.reader(csvfile)\n",
        "    next(reader)\n",
        "    deplain_src = [row[0] for row in reader]"
      ],
      "metadata": {
        "id": "Nd9ghLAYfG93"
      },
      "execution_count": null,
      "outputs": []
    },
    {
      "cell_type": "code",
      "source": [
        "#CLARAMED - ES\n",
        "! wget https://digital.csic.es/bitstream/10261/346579/1/claramed_synt_simp_aligned.tsv"
      ],
      "metadata": {
        "id": "5Nhw5rcyiOhz"
      },
      "execution_count": null,
      "outputs": []
    },
    {
      "cell_type": "code",
      "source": [
        "with open('/content/claramed_synt_simp_aligned.tsv') as csvfile:\n",
        "    reader = csv.reader(csvfile,delimiter=\"\\t\")\n",
        "    next(reader)\n",
        "    claramed_src = [row[1] for row in reader]"
      ],
      "metadata": {
        "id": "iWM0xrd_iTrn"
      },
      "execution_count": null,
      "outputs": []
    },
    {
      "cell_type": "code",
      "source": [
        "import torch\n",
        "import torch.nn as nn"
      ],
      "metadata": {
        "id": "G5vtGzb05nYI"
      },
      "execution_count": null,
      "outputs": []
    },
    {
      "cell_type": "code",
      "source": [
        "class SimpleFeedForward(nn.Module):\n",
        "    def __init__(self, input_dim, hidden_dim, output_dim):\n",
        "        super(SimpleFeedForward, self).__init__()\n",
        "        self.input_layer = nn.Linear(input_dim, hidden_dim)\n",
        "        self.relu1 = nn.ReLU()\n",
        "\n",
        "        self.output_layer = nn.Linear(hidden_dim, output_dim)\n",
        "\n",
        "    def forward(self, x):\n",
        "        x = self.input_layer(x)\n",
        "        x = self.relu1(x)\n",
        "        x = self.output_layer(x)\n",
        "        return x"
      ],
      "metadata": {
        "id": "zjc6h1fI66KU"
      },
      "execution_count": null,
      "outputs": []
    },
    {
      "cell_type": "code",
      "source": [
        "# get this after running training for part 3 (or use provided model)\n",
        "model = torch.load(\"/content/best_modelASSET - 4096.pt\")"
      ],
      "metadata": {
        "id": "3p2R2xDZ5p1V"
      },
      "execution_count": null,
      "outputs": []
    },
    {
      "cell_type": "code",
      "source": [
        "b_size = 16\n",
        "\n",
        "def simplify_sentences(sentences,lang=\"eng_Latn\"):\n",
        "    sentence_embeddings = text2vec.predict(sentences, source_lang=lang, max_seq_len=128, progress_bar=True, batch_size=b_size)\n",
        "    simplified_embeddings = model(sentence_embeddings)\n",
        "    simplified_texts = vec2text.predict(simplified_embeddings, target_lang=lang, max_seq_len=128, progress_bar=True, batch_size=b_size, len_penalty=1.0)\n",
        "    return simplified_texts"
      ],
      "metadata": {
        "id": "m_mWxH1t4Fk8"
      },
      "execution_count": null,
      "outputs": []
    },
    {
      "cell_type": "code",
      "source": [
        "asset_tgt = simplify_sentences(asset_src)\n"
      ],
      "metadata": {
        "id": "uLb1n7Qh4wDc"
      },
      "execution_count": null,
      "outputs": []
    },
    {
      "cell_type": "code",
      "source": [
        "medEASi_tgt = simplify_sentences(medEASi_src)"
      ],
      "metadata": {
        "id": "BojvTBHEXtLy"
      },
      "execution_count": null,
      "outputs": []
    },
    {
      "cell_type": "code",
      "source": [
        "deplain_tgt = simplify_sentences(deplain_src,lang='deu_Latn')"
      ],
      "metadata": {
        "id": "F21fKStKgub2"
      },
      "execution_count": null,
      "outputs": []
    },
    {
      "cell_type": "code",
      "source": [
        "claramed_tgt = simplify_sentences(claramed_src,lang='spa_Latn')"
      ],
      "metadata": {
        "id": "opUOEEuil-Vn"
      },
      "execution_count": null,
      "outputs": []
    },
    {
      "cell_type": "code",
      "source": [
        "for i in range(100):\n",
        "  print(asset_src[i].strip())\n",
        "  print(asset_tgt[i].strip())\n",
        "  print()"
      ],
      "metadata": {
        "id": "zukq72Hw7Q6k"
      },
      "execution_count": null,
      "outputs": []
    },
    {
      "cell_type": "code",
      "source": [
        "for i in range(100):\n",
        "  print(medEASi_src[i].strip())\n",
        "  print(medEASi_tgt[i].strip())\n",
        "  print()"
      ],
      "metadata": {
        "id": "IUEyBokJX2sM"
      },
      "execution_count": null,
      "outputs": []
    },
    {
      "cell_type": "code",
      "source": [
        "for i in range(100):\n",
        "  print(deplain_src[i].strip())\n",
        "  print(deplain_tgt[i].strip())\n",
        "  print()"
      ],
      "metadata": {
        "id": "Aw35n_bXhedG"
      },
      "execution_count": null,
      "outputs": []
    },
    {
      "cell_type": "code",
      "source": [
        "for i in range(100):\n",
        "  print(claramed_src[i].strip())\n",
        "  print(claramed_tgt[i].strip())\n",
        "  print()"
      ],
      "metadata": {
        "id": "ZrU_1u50mGVK"
      },
      "execution_count": null,
      "outputs": []
    },
    {
      "cell_type": "code",
      "source": [
        "import pickle"
      ],
      "metadata": {
        "id": "8FGH2gsN6aVg"
      },
      "execution_count": null,
      "outputs": []
    },
    {
      "cell_type": "code",
      "source": [
        "pickle.dump(asset_tgt, open('asset_tgt.pkl', 'wb'))"
      ],
      "metadata": {
        "id": "tA8-JO-n6_7n"
      },
      "execution_count": null,
      "outputs": []
    },
    {
      "cell_type": "code",
      "source": [
        "pickle.dump(medEASi_tgt, open('MedEASi_tgt.pkl', 'wb'))"
      ],
      "metadata": {
        "id": "cX1qsOmc7uw7"
      },
      "execution_count": null,
      "outputs": []
    },
    {
      "cell_type": "code",
      "source": [
        "pickle.dump(deplain_tgt, open('DEPlain_tgt.pkl', 'wb'))"
      ],
      "metadata": {
        "id": "4TfzA4buYLwa"
      },
      "execution_count": null,
      "outputs": []
    },
    {
      "cell_type": "code",
      "source": [
        "pickle.dump(claramed_tgt, open('CLARAMeD_tgt.pkl', 'wb'))"
      ],
      "metadata": {
        "id": "8rfR5fc0ip2T"
      },
      "execution_count": null,
      "outputs": []
    },
    {
      "cell_type": "code",
      "source": [],
      "metadata": {
        "id": "G7EU06GaoDEi"
      },
      "execution_count": null,
      "outputs": []
    }
  ]
}